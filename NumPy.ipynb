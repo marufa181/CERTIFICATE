{
  "nbformat": 4,
  "nbformat_minor": 0,
  "metadata": {
    "colab": {
      "private_outputs": true,
      "provenance": [],
      "cell_execution_strategy": "setup",
      "authorship_tag": "ABX9TyNuR56RLu32XK6yBw7WRNa4",
      "include_colab_link": true
    },
    "kernelspec": {
      "name": "python3",
      "display_name": "Python 3"
    },
    "language_info": {
      "name": "python"
    }
  },
  "cells": [
    {
      "cell_type": "markdown",
      "metadata": {
        "id": "view-in-github",
        "colab_type": "text"
      },
      "source": [
        "<a href=\"https://colab.research.google.com/github/marufa181/CERTIFICATE/blob/main/NumPy.ipynb\" target=\"_parent\"><img src=\"https://colab.research.google.com/assets/colab-badge.svg\" alt=\"Open In Colab\"/></a>"
      ]
    },
    {
      "cell_type": "markdown",
      "source": [
        "# NumPy Basics:"
      ],
      "metadata": {
        "id": "WERf3vaj4HZ8"
      }
    },
    {
      "cell_type": "markdown",
      "source": [
        "**Importing** **library**"
      ],
      "metadata": {
        "id": "KHfv7AsVc7Kq"
      }
    },
    {
      "cell_type": "code",
      "execution_count": null,
      "metadata": {
        "id": "scPHrSSrYIZa"
      },
      "outputs": [],
      "source": [
        "import numpy as np"
      ]
    },
    {
      "cell_type": "markdown",
      "source": [
        "**Array** **Atrributes**"
      ],
      "metadata": {
        "id": "tG2kWBxldmWp"
      }
    },
    {
      "cell_type": "code",
      "source": [
        "a = np.array([1,2,3]) # 1-D Array/ vector\n",
        "a"
      ],
      "metadata": {
        "id": "Uo_2y7f4dXtV"
      },
      "execution_count": null,
      "outputs": []
    },
    {
      "cell_type": "code",
      "source": [
        "type(a)"
      ],
      "metadata": {
        "id": "wGU81nVBeBvp"
      },
      "execution_count": null,
      "outputs": []
    },
    {
      "cell_type": "code",
      "source": [
        "a.shape"
      ],
      "metadata": {
        "id": "gBLjEroOeEnx"
      },
      "execution_count": null,
      "outputs": []
    },
    {
      "cell_type": "code",
      "source": [
        "a.ndim"
      ],
      "metadata": {
        "id": "eGw8ss5weMJE"
      },
      "execution_count": null,
      "outputs": []
    },
    {
      "cell_type": "code",
      "source": [
        "b = np.array([[1,2,3],\n",
        "              [4,5,6]]) # 2-D Array/ Matrix\n",
        "b"
      ],
      "metadata": {
        "id": "L5mZPJ9UeWXG"
      },
      "execution_count": null,
      "outputs": []
    },
    {
      "cell_type": "code",
      "source": [
        "type(b)"
      ],
      "metadata": {
        "id": "DibgzP0SesYi"
      },
      "execution_count": null,
      "outputs": []
    },
    {
      "cell_type": "code",
      "source": [
        "b.shape"
      ],
      "metadata": {
        "id": "TJfx-8otez_F"
      },
      "execution_count": null,
      "outputs": []
    },
    {
      "cell_type": "code",
      "source": [
        "b.ndim"
      ],
      "metadata": {
        "id": "IBq2yeFge2i0"
      },
      "execution_count": null,
      "outputs": []
    },
    {
      "cell_type": "code",
      "source": [
        "c = np.array([[[1,2,3],\n",
        "               [4,5,6],\n",
        "               [7,8,9]]]) # 3-D Array/ Tensor\n",
        "c"
      ],
      "metadata": {
        "id": "FYR_g3QQe6Bi"
      },
      "execution_count": null,
      "outputs": []
    },
    {
      "cell_type": "code",
      "source": [
        "type(c)"
      ],
      "metadata": {
        "id": "XE1RktxffI4w"
      },
      "execution_count": null,
      "outputs": []
    },
    {
      "cell_type": "code",
      "source": [
        "c.shape"
      ],
      "metadata": {
        "id": "00chXMjofMGx"
      },
      "execution_count": null,
      "outputs": []
    },
    {
      "cell_type": "code",
      "source": [
        "c.ndim"
      ],
      "metadata": {
        "id": "6Djz04HSfPeM"
      },
      "execution_count": null,
      "outputs": []
    },
    {
      "cell_type": "code",
      "source": [
        "d = np.array([[[1,2,3],\n",
        "               [4,5,6],\n",
        "               [7,8,9]],\n",
        "\n",
        "              [[10,11,12],\n",
        "               [13,14,15],\n",
        "               [16,17,18]]])\n",
        "d"
      ],
      "metadata": {
        "id": "NGgAF78cfa-P"
      },
      "execution_count": null,
      "outputs": []
    },
    {
      "cell_type": "code",
      "source": [
        "d.shape"
      ],
      "metadata": {
        "id": "1T0Y2VQwgg6A"
      },
      "execution_count": null,
      "outputs": []
    },
    {
      "cell_type": "code",
      "source": [
        "d.ndim"
      ],
      "metadata": {
        "id": "7xAdh36LgkdV"
      },
      "execution_count": null,
      "outputs": []
    },
    {
      "cell_type": "code",
      "source": [
        "a.dtype"
      ],
      "metadata": {
        "id": "oLDEsQsNgoua"
      },
      "execution_count": null,
      "outputs": []
    },
    {
      "cell_type": "code",
      "source": [
        "b.dtype"
      ],
      "metadata": {
        "id": "plWk1Ex7hCr4"
      },
      "execution_count": null,
      "outputs": []
    },
    {
      "cell_type": "code",
      "source": [
        "c.dtype"
      ],
      "metadata": {
        "id": "3YcWLyeihwpA"
      },
      "execution_count": null,
      "outputs": []
    },
    {
      "cell_type": "code",
      "source": [
        "d.dtype"
      ],
      "metadata": {
        "id": "rKGQu02ihyrw"
      },
      "execution_count": null,
      "outputs": []
    },
    {
      "cell_type": "code",
      "source": [
        "a.size, b.size, c.size, d.size  # determine how many elements are there in an array"
      ],
      "metadata": {
        "id": "CuWRmB_Mh1wy"
      },
      "execution_count": null,
      "outputs": []
    },
    {
      "cell_type": "code",
      "source": [
        "# how memory getting\n",
        "a.nbytes, b.nbytes, c.nbytes, d.nbytes"
      ],
      "metadata": {
        "id": "9bGgb9B_iHOI"
      },
      "execution_count": null,
      "outputs": []
    },
    {
      "cell_type": "code",
      "source": [
        "a.itemsize, b.itemsize, c.itemsize, d.itemsize"
      ],
      "metadata": {
        "id": "LstnKnKpiuNL"
      },
      "execution_count": null,
      "outputs": []
    },
    {
      "cell_type": "code",
      "source": [
        "a.data, b.data, c.data, d.data"
      ],
      "metadata": {
        "id": "uwDEQZJyi-iV"
      },
      "execution_count": null,
      "outputs": []
    },
    {
      "cell_type": "markdown",
      "source": [
        "**Array creation**"
      ],
      "metadata": {
        "id": "TURVvvk7jGck"
      }
    },
    {
      "cell_type": "code",
      "source": [
        "array1 = np.array([1,2,3], dtype = 'int')\n",
        "array1"
      ],
      "metadata": {
        "id": "RDUyy-k5jDVi"
      },
      "execution_count": null,
      "outputs": []
    },
    {
      "cell_type": "code",
      "source": [
        "array = np.zeros((2,2), dtype = 'float')\n",
        "array"
      ],
      "metadata": {
        "id": "KSwEC0KqjtC7"
      },
      "execution_count": null,
      "outputs": []
    },
    {
      "cell_type": "code",
      "source": [
        "arr = np.zeros((3,3), dtype = 'int')\n",
        "arr"
      ],
      "metadata": {
        "id": "3RsISlAakWSM"
      },
      "execution_count": null,
      "outputs": []
    },
    {
      "cell_type": "code",
      "source": [
        "one = np.ones((3,3), dtype = 'int')\n",
        "one"
      ],
      "metadata": {
        "id": "QmxkbZEnkdNv"
      },
      "execution_count": null,
      "outputs": []
    },
    {
      "cell_type": "code",
      "source": [
        "full = np.full((2,2), 5)\n",
        "full"
      ],
      "metadata": {
        "id": "qBx-ju2Mkset"
      },
      "execution_count": null,
      "outputs": []
    },
    {
      "cell_type": "code",
      "source": [
        "identity = np.identity(3,dtype='int')\n",
        "identity"
      ],
      "metadata": {
        "id": "bI-SEfjVk56S"
      },
      "execution_count": null,
      "outputs": []
    },
    {
      "cell_type": "code",
      "source": [
        "eye = np.eye(3,3)\n",
        "eye"
      ],
      "metadata": {
        "id": "3Vqn8xX_lIQm"
      },
      "execution_count": null,
      "outputs": []
    },
    {
      "cell_type": "code",
      "source": [
        "eye = np.eye(3,3,1)\n",
        "eye"
      ],
      "metadata": {
        "id": "bZ58VLtolpNo"
      },
      "execution_count": null,
      "outputs": []
    },
    {
      "cell_type": "code",
      "source": [
        "arange = np.arange(1,10,2) # range\n",
        "arange"
      ],
      "metadata": {
        "id": "Z9AgCkZclxjj"
      },
      "execution_count": null,
      "outputs": []
    },
    {
      "cell_type": "code",
      "source": [
        "linspace = np.linspace(1,10,5) # linear space\n",
        "linspace"
      ],
      "metadata": {
        "id": "d1gmmKk0mI4M"
      },
      "execution_count": null,
      "outputs": []
    },
    {
      "cell_type": "code",
      "source": [
        "linspace = np.linspace(1,10,10) # linear space\n",
        "linspace"
      ],
      "metadata": {
        "id": "gNI7rvnHmDAE"
      },
      "execution_count": null,
      "outputs": []
    },
    {
      "cell_type": "code",
      "source": [
        "linspace.size"
      ],
      "metadata": {
        "id": "6jF4pgkpmpzC"
      },
      "execution_count": null,
      "outputs": []
    },
    {
      "cell_type": "code",
      "source": [
        "linspace = np.linspace(1,100,50, dtype = 'int') # linear space\n",
        "linspace"
      ],
      "metadata": {
        "id": "wmqsv6s1myp_"
      },
      "execution_count": null,
      "outputs": []
    },
    {
      "cell_type": "code",
      "source": [
        "linspace.size"
      ],
      "metadata": {
        "id": "kGLT61RAnAwY"
      },
      "execution_count": null,
      "outputs": []
    },
    {
      "cell_type": "code",
      "source": [
        "empty = np.empty((1,5))\n",
        "empty"
      ],
      "metadata": {
        "id": "g14wwWUOngsh"
      },
      "execution_count": null,
      "outputs": []
    },
    {
      "cell_type": "code",
      "source": [
        "for i in range(5):\n",
        "  empty[:,i] = i\n",
        "empty"
      ],
      "metadata": {
        "id": "J5w_V21dnsko"
      },
      "execution_count": null,
      "outputs": []
    },
    {
      "cell_type": "markdown",
      "source": [
        "**Array Indexing and Slicing**"
      ],
      "metadata": {
        "id": "n5bIlX3toSIz"
      }
    },
    {
      "cell_type": "markdown",
      "source": [
        "1.**Indexing**"
      ],
      "metadata": {
        "id": "Yx1Z859Gopy8"
      }
    },
    {
      "cell_type": "code",
      "source": [
        "arr1 = np.array([1,2,3,4,5])\n",
        "arr1"
      ],
      "metadata": {
        "id": "_vb21JWsoCLE"
      },
      "execution_count": null,
      "outputs": []
    },
    {
      "cell_type": "code",
      "source": [
        "arr1[0]"
      ],
      "metadata": {
        "id": "ZQke0c0Wo5HD"
      },
      "execution_count": null,
      "outputs": []
    },
    {
      "cell_type": "code",
      "source": [
        "arr1[4]"
      ],
      "metadata": {
        "id": "5xZITd9UpcdC"
      },
      "execution_count": null,
      "outputs": []
    },
    {
      "cell_type": "code",
      "source": [
        "arr1[-1] # last index"
      ],
      "metadata": {
        "id": "kEo-XeD6pkdL"
      },
      "execution_count": null,
      "outputs": []
    },
    {
      "cell_type": "code",
      "source": [
        "arr2 = np.random.randint(1,10, size= (3,3))\n",
        "arr2"
      ],
      "metadata": {
        "id": "x_QRsGYkyaEC"
      },
      "execution_count": null,
      "outputs": []
    },
    {
      "cell_type": "code",
      "source": [
        "arr2[0][0]"
      ],
      "metadata": {
        "id": "RHMgQ3qxzF6J"
      },
      "execution_count": null,
      "outputs": []
    },
    {
      "cell_type": "code",
      "source": [
        "arr2[1][2]"
      ],
      "metadata": {
        "id": "dCoxO-NxzgXs"
      },
      "execution_count": null,
      "outputs": []
    },
    {
      "cell_type": "code",
      "source": [
        "arr3 = np.random.randint(1,10, size = (2,3,3))\n",
        "arr3"
      ],
      "metadata": {
        "id": "v5qSfhcyzzQQ"
      },
      "execution_count": null,
      "outputs": []
    },
    {
      "cell_type": "code",
      "source": [
        "arr3[0][0][1]"
      ],
      "metadata": {
        "id": "HovlgukO0EUw"
      },
      "execution_count": null,
      "outputs": []
    },
    {
      "cell_type": "code",
      "source": [
        "arr3[1][1][1]"
      ],
      "metadata": {
        "id": "4fYP6k4H0eLO"
      },
      "execution_count": null,
      "outputs": []
    },
    {
      "cell_type": "markdown",
      "source": [
        "2.**Slicing**"
      ],
      "metadata": {
        "id": "4PQdrxYN0pT8"
      }
    },
    {
      "cell_type": "code",
      "source": [
        "arr1"
      ],
      "metadata": {
        "id": "BXyvT5F20kDT"
      },
      "execution_count": null,
      "outputs": []
    },
    {
      "cell_type": "code",
      "source": [
        "# needed first 3 elements\n",
        "print(arr1[0:3])\n"
      ],
      "metadata": {
        "id": "p__E_jPj1Gfn"
      },
      "execution_count": null,
      "outputs": []
    },
    {
      "cell_type": "code",
      "source": [
        "arr1[2:]"
      ],
      "metadata": {
        "id": "9IfvYZjI1ptF"
      },
      "execution_count": null,
      "outputs": []
    },
    {
      "cell_type": "code",
      "source": [
        "arr2"
      ],
      "metadata": {
        "id": "aVD9iN1K174Y"
      },
      "execution_count": null,
      "outputs": []
    },
    {
      "cell_type": "code",
      "source": [
        "arr2[0:2,0:2]"
      ],
      "metadata": {
        "id": "PodkWxFs2D-z"
      },
      "execution_count": null,
      "outputs": []
    },
    {
      "cell_type": "code",
      "source": [
        "arr2[1:,1:]"
      ],
      "metadata": {
        "id": "yZ6fiXvT2O69"
      },
      "execution_count": null,
      "outputs": []
    },
    {
      "cell_type": "markdown",
      "source": [
        "## Manipilating array shapes\n",
        "   1.reshape()\n",
        "   2.resize()\n",
        "   3.flatten()\n",
        "   4.revel()\n",
        "   5.defining array shape"
      ],
      "metadata": {
        "id": "ZiA21pYR3avI"
      }
    },
    {
      "cell_type": "markdown",
      "source": [
        "**1. reshape**"
      ],
      "metadata": {
        "id": "aQDQJgtH6Qoo"
      }
    },
    {
      "cell_type": "code",
      "source": [
        "a = np.array([[1,2,3],\n",
        "              [4,5,6]])\n",
        "a"
      ],
      "metadata": {
        "id": "IlEonwic4AR_"
      },
      "execution_count": null,
      "outputs": []
    },
    {
      "cell_type": "code",
      "source": [
        "a.shape"
      ],
      "metadata": {
        "id": "cHZ5VeU-3MpO"
      },
      "execution_count": null,
      "outputs": []
    },
    {
      "cell_type": "code",
      "source": [
        "a_reshape = np.reshape(a,(3,2))\n",
        "a_reshape"
      ],
      "metadata": {
        "id": "b5maNvzT4xCh"
      },
      "execution_count": null,
      "outputs": []
    },
    {
      "cell_type": "code",
      "source": [
        "a_reshape.shape"
      ],
      "metadata": {
        "id": "z07Ht8Eg45Y4"
      },
      "execution_count": null,
      "outputs": []
    },
    {
      "cell_type": "code",
      "source": [
        "a_reshape = np.reshape(a,(3,3))\n",
        "a_reshape"
      ],
      "metadata": {
        "id": "JTTEp9ed5Fqc"
      },
      "execution_count": null,
      "outputs": []
    },
    {
      "cell_type": "markdown",
      "source": [
        "**2. resize()**"
      ],
      "metadata": {
        "id": "Yes98K_76F0y"
      }
    },
    {
      "cell_type": "code",
      "source": [
        "a"
      ],
      "metadata": {
        "id": "-c-S1TDr5MaA"
      },
      "execution_count": null,
      "outputs": []
    },
    {
      "cell_type": "code",
      "source": [
        "a.shape"
      ],
      "metadata": {
        "id": "dIscjVg_6kSh"
      },
      "execution_count": null,
      "outputs": []
    },
    {
      "cell_type": "code",
      "source": [
        "a_resize = np.resize(a,(4,3))\n",
        "a_resize"
      ],
      "metadata": {
        "id": "iyfflRjv6npY"
      },
      "execution_count": null,
      "outputs": []
    },
    {
      "cell_type": "code",
      "source": [
        "a_resize = np.resize(a,(3,2))\n",
        "a_resize"
      ],
      "metadata": {
        "id": "9peS6My26v7p"
      },
      "execution_count": null,
      "outputs": []
    },
    {
      "cell_type": "markdown",
      "source": [
        "**3. revel**"
      ],
      "metadata": {
        "id": "ui4DvT_-78QT"
      }
    },
    {
      "cell_type": "code",
      "source": [
        "a = np.random.randint(1,10, size = (2,3))\n",
        "a"
      ],
      "metadata": {
        "id": "oqT_bs1i7klf"
      },
      "execution_count": null,
      "outputs": []
    },
    {
      "cell_type": "code",
      "source": [
        "a_reveled = np.ravel(a)\n",
        "a_reveled"
      ],
      "metadata": {
        "id": "0NEHs0Nd8ir8"
      },
      "execution_count": null,
      "outputs": []
    },
    {
      "cell_type": "code",
      "source": [
        "a_reveled.shape\n"
      ],
      "metadata": {
        "id": "ZHq_Oah68uv4"
      },
      "execution_count": null,
      "outputs": []
    },
    {
      "cell_type": "code",
      "source": [
        "a_reveled[0]"
      ],
      "metadata": {
        "id": "L4vqLE9E-NZ4"
      },
      "execution_count": null,
      "outputs": []
    },
    {
      "cell_type": "code",
      "source": [
        "a_reveled[0]=0\n",
        "a_reveled"
      ],
      "metadata": {
        "id": "P-IZ-TJv-fmw"
      },
      "execution_count": null,
      "outputs": []
    },
    {
      "cell_type": "markdown",
      "source": [
        "**4. flatten()**"
      ],
      "metadata": {
        "id": "py7ZF1ng89PX"
      }
    },
    {
      "cell_type": "code",
      "source": [
        "a"
      ],
      "metadata": {
        "id": "tFyYLtPr835H"
      },
      "execution_count": null,
      "outputs": []
    },
    {
      "cell_type": "code",
      "source": [
        "a_flattened = a.flatten() # Return a copy of the array, always allocates a new memory\n",
        "a_flattened"
      ],
      "metadata": {
        "id": "wDA-8SM997wa"
      },
      "execution_count": null,
      "outputs": []
    },
    {
      "cell_type": "code",
      "source": [
        "a_flattened[0]=100\n",
        "a_flattened"
      ],
      "metadata": {
        "id": "WXU7K6MP-DCT"
      },
      "execution_count": null,
      "outputs": []
    },
    {
      "cell_type": "code",
      "source": [
        "a"
      ],
      "metadata": {
        "id": "zAHNehOi-_dp"
      },
      "execution_count": null,
      "outputs": []
    },
    {
      "cell_type": "markdown",
      "source": [
        "**5. defining an array shape**"
      ],
      "metadata": {
        "id": "i_bKPSXFAQkC"
      }
    },
    {
      "cell_type": "code",
      "source": [
        "a"
      ],
      "metadata": {
        "id": "RssPdMwN_CIe"
      },
      "execution_count": null,
      "outputs": []
    },
    {
      "cell_type": "code",
      "source": [
        "a.shape = (3,2)\n",
        "a"
      ],
      "metadata": {
        "id": "63pF0wvYAcOV"
      },
      "execution_count": null,
      "outputs": []
    },
    {
      "cell_type": "code",
      "source": [
        "a.shape = (5,2)"
      ],
      "metadata": {
        "id": "biRtKELIAjZm"
      },
      "execution_count": null,
      "outputs": []
    },
    {
      "cell_type": "markdown",
      "source": [
        "# Stacking"
      ],
      "metadata": {
        "id": "JwU0EqdmD_9f"
      }
    },
    {
      "cell_type": "markdown",
      "source": [
        "** Horizontal stack**"
      ],
      "metadata": {
        "id": "5YSCkE43FrTR"
      }
    },
    {
      "cell_type": "code",
      "source": [
        "a = np.arange(1,10).reshape(3,3)\n",
        "a"
      ],
      "metadata": {
        "id": "4JYBFLkyAvDe"
      },
      "execution_count": null,
      "outputs": []
    },
    {
      "cell_type": "code",
      "source": [
        "b = 2*a\n",
        "b"
      ],
      "metadata": {
        "id": "S0PJ_2B_EyQj"
      },
      "execution_count": null,
      "outputs": []
    },
    {
      "cell_type": "code",
      "source": [
        "np.hstack((a,b))"
      ],
      "metadata": {
        "id": "jFp2g3GNE2vF"
      },
      "execution_count": null,
      "outputs": []
    },
    {
      "cell_type": "code",
      "source": [
        "np.column_stack((a,b))"
      ],
      "metadata": {
        "id": "3bNO-59mFHS-"
      },
      "execution_count": null,
      "outputs": []
    },
    {
      "cell_type": "code",
      "source": [
        "np.concatenate((a,b), axis = 1)"
      ],
      "metadata": {
        "id": "lZ28yPLIFWdU"
      },
      "execution_count": null,
      "outputs": []
    },
    {
      "cell_type": "markdown",
      "source": [
        "** Vertical stack**"
      ],
      "metadata": {
        "id": "QevIOrySF0f2"
      }
    },
    {
      "cell_type": "code",
      "source": [
        "np.vstack((a,b))"
      ],
      "metadata": {
        "id": "wor-wau5FkoS"
      },
      "execution_count": null,
      "outputs": []
    },
    {
      "cell_type": "code",
      "source": [
        "np.row_stack((a,b))"
      ],
      "metadata": {
        "id": "L6IsU5njF8Zf"
      },
      "execution_count": null,
      "outputs": []
    },
    {
      "cell_type": "code",
      "source": [
        "np.concatenate((a,b), axis = 0)"
      ],
      "metadata": {
        "id": "JsQkpsdgGCbj"
      },
      "execution_count": null,
      "outputs": []
    },
    {
      "cell_type": "markdown",
      "source": [
        "**Depth stack**"
      ],
      "metadata": {
        "id": "vWaUSKlcGLOx"
      }
    },
    {
      "cell_type": "code",
      "source": [
        "np.dstack((a,b))"
      ],
      "metadata": {
        "id": "xKsTBfrPGFga"
      },
      "execution_count": null,
      "outputs": []
    }
  ]
}