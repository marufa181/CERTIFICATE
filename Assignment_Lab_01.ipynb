{
  "nbformat": 4,
  "nbformat_minor": 0,
  "metadata": {
    "colab": {
      "provenance": [],
      "authorship_tag": "ABX9TyN07oI8c8+d2Je6T9dNKaqs",
      "include_colab_link": true
    },
    "kernelspec": {
      "name": "python3",
      "display_name": "Python 3"
    },
    "language_info": {
      "name": "python"
    }
  },
  "cells": [
    {
      "cell_type": "markdown",
      "metadata": {
        "id": "view-in-github",
        "colab_type": "text"
      },
      "source": [
        "<a href=\"https://colab.research.google.com/github/marufa181/CERTIFICATE/blob/main/Assignment_Lab_01.ipynb\" target=\"_parent\"><img src=\"https://colab.research.google.com/assets/colab-badge.svg\" alt=\"Open In Colab\"/></a>"
      ]
    },
    {
      "cell_type": "markdown",
      "source": [
        "**Problem 01**"
      ],
      "metadata": {
        "id": "DSrThI4lRL_x"
      }
    },
    {
      "cell_type": "code",
      "execution_count": 1,
      "metadata": {
        "id": "VJ-jKvhXRJuE",
        "colab": {
          "base_uri": "https://localhost:8080/"
        },
        "outputId": "f457de9b-d385-48aa-acf1-8393e681452e"
      },
      "outputs": [
        {
          "output_type": "stream",
          "name": "stdout",
          "text": [
            "Input: 212hello344world\n",
            "212344\n"
          ]
        }
      ],
      "source": [
        "user_input = input(\"Input: \")\n",
        "result = \"\"\n",
        "for i in user_input:\n",
        "  if i.isdigit():\n",
        "    result = result + i\n",
        "print(result)"
      ]
    },
    {
      "cell_type": "markdown",
      "source": [
        "**Problem 02**"
      ],
      "metadata": {
        "id": "9ou4zE1SpiEh"
      }
    },
    {
      "cell_type": "code",
      "source": [
        "n = input(\"Enter the Number: \")\n",
        "\n",
        "valid = True\n",
        "if n[0] == '-':\n",
        "    if len(n) == 1:\n",
        "        valid = False\n",
        "    else:\n",
        "        for char in n[1:]:\n",
        "            if char < '0' or char > '9':\n",
        "                valid = False\n",
        "                break\n",
        "else:\n",
        "    for char in n:\n",
        "        if char < '0' or char > '9':\n",
        "            valid = False\n",
        "            break\n",
        "\n",
        "\n",
        "if valid:\n",
        "    n = int(n)\n",
        "    sum = 0\n",
        "\n",
        "    if n % 2 == 1:\n",
        "        for i in range(1, n + 1, 2):\n",
        "            sum += i * i\n",
        "    else:\n",
        "        for i in range(1, n + 2, 2):\n",
        "            sum += i * i\n",
        "\n",
        "    print(\"The sum is:\", sum)\n",
        "else:\n",
        "    print(\"ERROR\")"
      ],
      "metadata": {
        "id": "gtv3ENx0SnTd",
        "colab": {
          "base_uri": "https://localhost:8080/"
        },
        "outputId": "ebcb5a54-9218-4b19-d5f0-382ef09d8c32"
      },
      "execution_count": 2,
      "outputs": [
        {
          "output_type": "stream",
          "name": "stdout",
          "text": [
            "Enter the Number: 5\n",
            "The sum is: 35\n"
          ]
        }
      ]
    },
    {
      "cell_type": "markdown",
      "source": [
        "**Problem 03**"
      ],
      "metadata": {
        "id": "nvirdKGdpoVA"
      }
    },
    {
      "cell_type": "code",
      "source": [
        "def reverse(lst):\n",
        "    list = []\n",
        "    for i in range(len(lst) - 1, -1, -1):\n",
        "        list.append(lst[i])\n",
        "    return list\n",
        "\n",
        "arr = ['apple', 'grape', 100, 3.4, [1, 2], (2, 3)]\n",
        "result = reverse(arr)\n",
        "print(\"Reversed list:\", result)"
      ],
      "metadata": {
        "id": "-_VvDLPLZow6",
        "colab": {
          "base_uri": "https://localhost:8080/"
        },
        "outputId": "69bbb1af-9dbd-4b41-b389-358fe80843fd"
      },
      "execution_count": 3,
      "outputs": [
        {
          "output_type": "stream",
          "name": "stdout",
          "text": [
            "Reversed list: [(2, 3), [1, 2], 3.4, 100, 'grape', 'apple']\n"
          ]
        }
      ]
    },
    {
      "cell_type": "markdown",
      "source": [
        "**Problem 04**"
      ],
      "metadata": {
        "id": "GuVHBWRsptQb"
      }
    },
    {
      "cell_type": "code",
      "source": [
        "def dictionary(keys, values):\n",
        "\n",
        "    if not isinstance(keys, list) or not isinstance(values, list):\n",
        "        print(\"ERROR\")\n",
        "        return None\n",
        "\n",
        "    dictionary = dict(zip(keys, values))\n",
        "    return dictionary\n",
        "\n",
        "keys = ['name', 'age', 'city']\n",
        "values = ['Marufa', 22, 'Bangladesh']\n",
        "\n",
        "result = dictionary(keys, values)\n",
        "if result is not None:\n",
        "    print(result)\n"
      ],
      "metadata": {
        "id": "tHnaCdEHi9z6",
        "colab": {
          "base_uri": "https://localhost:8080/"
        },
        "outputId": "9c6ec4b5-5528-48b4-f603-18354ba704cb"
      },
      "execution_count": 4,
      "outputs": [
        {
          "output_type": "stream",
          "name": "stdout",
          "text": [
            "{'name': 'Marufa', 'age': 22, 'city': 'Bangladesh'}\n"
          ]
        }
      ]
    },
    {
      "cell_type": "markdown",
      "source": [
        "**Problem** **05**"
      ],
      "metadata": {
        "id": "3Fm8rMPiuLhD"
      }
    },
    {
      "cell_type": "code",
      "source": [
        "class BankAccount:\n",
        "\n",
        "    def __init__(self, account_number, balance=0): # Constructor\n",
        "        self.account_number = account_number\n",
        "        self.balance = balance\n",
        "\n",
        "    def deposit(self, amount): # Method\n",
        "        if amount > 0:\n",
        "            self.balance += amount\n",
        "            print(f\"Deposited {amount}. New balance: {self.balance}\")\n",
        "        else:\n",
        "            print(\"Deposit amount must be positive.\")\n",
        "\n",
        "    def withdraw(self, amount): # Method\n",
        "        if amount > self.balance:\n",
        "            print(\"Insufficient funds.\")\n",
        "        elif amount <= 0:\n",
        "            print(\"Withdrawal amount must be positive.\")\n",
        "        else:\n",
        "            self.balance -= amount\n",
        "            print(f\"Withdrew {amount}. New balance: {self.balance}\")\n",
        "\n",
        "    def display_balance(self): # Method\n",
        "        print(f\"Account {self.account_number} Balance: {self.balance}\")\n",
        "\n",
        "account = BankAccount(\"123456789\", 500)  # Object\n",
        "print(isinstance(account,BankAccount)) #Object check\n",
        "account.display_balance()\n",
        "account.deposit(200)\n",
        "account.withdraw(100)\n",
        "account.withdraw(700)\n",
        "account.display_balance()"
      ],
      "metadata": {
        "id": "nhlg3jFUt0RB",
        "colab": {
          "base_uri": "https://localhost:8080/"
        },
        "outputId": "71cf778f-e52d-4931-82b6-eb41babde4ae"
      },
      "execution_count": 5,
      "outputs": [
        {
          "output_type": "stream",
          "name": "stdout",
          "text": [
            "True\n",
            "Account 123456789 Balance: 500\n",
            "Deposited 200. New balance: 700\n",
            "Withdrew 100. New balance: 600\n",
            "Insufficient funds.\n",
            "Account 123456789 Balance: 600\n"
          ]
        }
      ]
    },
    {
      "cell_type": "markdown",
      "source": [
        "**problem 06**"
      ],
      "metadata": {
        "id": "E-6QG3jYnw_a"
      }
    },
    {
      "cell_type": "code",
      "source": [
        "import numpy as np"
      ],
      "metadata": {
        "id": "tXorIif0fFSE"
      },
      "execution_count": 6,
      "outputs": []
    },
    {
      "cell_type": "code",
      "source": [
        "r = int(input(\"Enetr Number of row: \"))\n",
        "c = int(input(\"Enetr Number of coloum: \"))\n",
        "\n",
        "a =[]\n",
        "for i in range(r):\n",
        "    b=[]\n",
        "    for j in range(c):\n",
        "        j = int(input((f\"Enter element for row {i+1}, column {j+1}: \")))\n",
        "        b.append(j)\n",
        "    a.append(b)\n",
        "for i in range(r):\n",
        "    for j in range(c):\n",
        "        print(a[i][j],end=' ')\n",
        "    print()"
      ],
      "metadata": {
        "id": "mKA3K8Ixt6wT",
        "colab": {
          "base_uri": "https://localhost:8080/"
        },
        "outputId": "aa9a8d59-3401-4ef5-b59e-ec7a84f17ac6"
      },
      "execution_count": 7,
      "outputs": [
        {
          "output_type": "stream",
          "name": "stdout",
          "text": [
            "Enetr Number of row: 2\n",
            "Enetr Number of coloum: 3\n",
            "Enter element for row 1, column 1: 1\n",
            "Enter element for row 1, column 2: 3\n",
            "Enter element for row 1, column 3: 5\n",
            "Enter element for row 2, column 1: 7\n",
            "Enter element for row 2, column 2: 8\n",
            "Enter element for row 2, column 3: 6\n",
            "1 3 5 \n",
            "7 8 6 \n"
          ]
        }
      ]
    },
    {
      "cell_type": "code",
      "source": [
        "arr = np.array(a)\n",
        "print(arr)"
      ],
      "metadata": {
        "id": "6oKqFEZCm1m1",
        "colab": {
          "base_uri": "https://localhost:8080/"
        },
        "outputId": "aaac0125-4bcf-4a31-e042-f33af2a513dd"
      },
      "execution_count": 8,
      "outputs": [
        {
          "output_type": "stream",
          "name": "stdout",
          "text": [
            "[[1 3 5]\n",
            " [7 8 6]]\n"
          ]
        }
      ]
    },
    {
      "cell_type": "code",
      "source": [
        "arr_reshaped = arr.reshape(1,r*c)\n",
        "print(arr_reshaped)"
      ],
      "metadata": {
        "id": "Mt-vWUGTnb68",
        "colab": {
          "base_uri": "https://localhost:8080/"
        },
        "outputId": "cd42c30c-bf71-4a93-fb12-f397e0287b09"
      },
      "execution_count": 9,
      "outputs": [
        {
          "output_type": "stream",
          "name": "stdout",
          "text": [
            "[[1 3 5 7 8 6]]\n"
          ]
        }
      ]
    },
    {
      "cell_type": "markdown",
      "source": [
        "** Problem 07**"
      ],
      "metadata": {
        "id": "Hf0Jr2A8qTYc"
      }
    },
    {
      "cell_type": "code",
      "source": [
        "import numpy as np\n",
        "import matplotlib.pyplot as plt\n",
        "\n",
        "x1 = np.linspace(0, 4, 100)\n",
        "x2 = np.linspace(4, 8, 100)\n",
        "x3 = np.linspace(8, 12, 100)\n",
        "\n",
        "y1 = x1**2\n",
        "y2 = np.full_like(x2, 16)\n",
        "y3 = (12 - x3)**2\n",
        "\n",
        "x = np.concatenate([x1, x2, x3])\n",
        "y = np.concatenate([y1, y2, y3])\n",
        "\n",
        "plt.figure(figsize=(8, 6))\n",
        "plt.plot(x, y, label=\"Piecewise Function\", color='b')\n",
        "plt.title(\"Plot of the Piecewise Function\")\n",
        "plt.xlabel(\"x\")\n",
        "plt.ylabel(\"y\")\n",
        "plt.grid(True)\n",
        "plt.legend()\n",
        "plt.show()\n"
      ],
      "metadata": {
        "id": "0xG1Vn0MnuGw",
        "colab": {
          "base_uri": "https://localhost:8080/",
          "height": 564
        },
        "outputId": "15edd174-14c8-447f-e652-e90bc25416b1"
      },
      "execution_count": 10,
      "outputs": [
        {
          "output_type": "display_data",
          "data": {
            "text/plain": [
              "<Figure size 800x600 with 1 Axes>"
            ],
            "image/png": "[encoded data removed]"
          },
          "metadata": {}
        }
      ]
    }
  ]
}