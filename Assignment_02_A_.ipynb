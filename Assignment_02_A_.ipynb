{
  "nbformat": 4,
  "nbformat_minor": 0,
  "metadata": {
    "colab": {
      "provenance": [],
      "authorship_tag": "ABX9TyPomaQI3XxG3ACi6IamQ3OF",
      "include_colab_link": true
    },
    "kernelspec": {
      "name": "python3",
      "display_name": "Python 3"
    },
    "language_info": {
      "name": "python"
    }
  },
  "cells": [
    {
      "cell_type": "markdown",
      "metadata": {
        "id": "view-in-github",
        "colab_type": "text"
      },
      "source": [
        "<a href=\"https://colab.research.google.com/github/marufa181/CERTIFICATE/blob/main/Assignment_02_A_.ipynb\" target=\"_parent\"><img src=\"https://colab.research.google.com/assets/colab-badge.svg\" alt=\"Open In Colab\"/></a>"
      ]
    },
    {
      "cell_type": "code",
      "execution_count": 2,
      "metadata": {
        "colab": {
          "base_uri": "https://localhost:8080/"
        },
        "id": "gFav6Qxbv0mo",
        "outputId": "bc49ac41-6a1d-459a-9d8a-114962c4fac0"
      },
      "outputs": [
        {
          "output_type": "stream",
          "name": "stdout",
          "text": [
            "Solution path: S → A → G\n",
            "Solution cost: 2\n"
          ]
        }
      ],
      "source": [
        "import math\n",
        "from queue import PriorityQueue\n",
        "\n",
        "# Read input from a file named \"input.txt\"\n",
        "coords = {}\n",
        "adjlist = {}\n",
        "with open('input.txt', 'r') as f:\n",
        "    # Read number of vertices\n",
        "    V = int(f.readline())\n",
        "    for _ in range(V):\n",
        "        line = f.readline().split()\n",
        "        nid, x, y = line[0], int(line[1]), int(line[2])\n",
        "        coords[nid] = (x, y)  # Store coordinates\n",
        "        adjlist[nid] = []     # Initialize adjacency list\n",
        "\n",
        "    # Read number of edges\n",
        "    E = int(f.readline())\n",
        "    for _ in range(E):\n",
        "        line = f.readline().split()\n",
        "        n1, n2, cost = line[0], line[1], int(line[2])\n",
        "        adjlist[n1].append((n2, cost))  # Add edge to adjacency list\n",
        "\n",
        "    # Read start and goal nodes\n",
        "    startnid = f.readline().strip()\n",
        "    goalnid = f.readline().strip()\n",
        "\n",
        "# Heuristic function using Euclidean distance\n",
        "def heuristic(node, goal):\n",
        "    x1, y1 = coords[node]\n",
        "    x2, y2 = coords[goal]\n",
        "    return math.sqrt((x2 - x1)**2 + (y2 - y1)**2)\n",
        "\n",
        "# Class to represent a state\n",
        "class State:\n",
        "    def __init__(self, nid, parent, g, f):\n",
        "        self.id = nid           # Node ID\n",
        "        self.parent = parent    # Parent state\n",
        "        self.g = g              # Cost from start to this node\n",
        "        self.f = f              # Total estimated cost (g + h)\n",
        "\n",
        "    # For PriorityQueue (compare based on f)\n",
        "    def __lt__(self, other):\n",
        "        return self.f < other.f\n",
        "\n",
        "    def __eq__(self, other):\n",
        "        return self.id == other.id\n",
        "\n",
        "# A* search algorithm\n",
        "def a_star_search(start, goal):\n",
        "    open_set = PriorityQueue()\n",
        "    open_set.put(State(start, None, 0, heuristic(start, goal)))\n",
        "    visited = set()  # To track visited nodes\n",
        "\n",
        "    while not open_set.empty():\n",
        "        current = open_set.get()  # Get node with lowest f-value\n",
        "\n",
        "        # If the goal is reached, reconstruct and return the path\n",
        "        if current.id == goal:\n",
        "            path = []\n",
        "            total_cost = current.g\n",
        "            while current:\n",
        "                path.append(current.id)\n",
        "                current = current.parent\n",
        "            return path[::-1], total_cost\n",
        "\n",
        "        # Mark current node as visited\n",
        "        visited.add(current.id)\n",
        "\n",
        "        # Process neighbors\n",
        "        for neighbor, cost in adjlist[current.id]:\n",
        "            if neighbor in visited:\n",
        "                continue\n",
        "\n",
        "            g = current.g + cost\n",
        "            h = heuristic(neighbor, goal)\n",
        "            f = g + h\n",
        "\n",
        "            open_set.put(State(neighbor, current, g, f))\n",
        "\n",
        "    # If no path found\n",
        "    return None, float('inf')\n",
        "\n",
        "# Execute A* search\n",
        "path, cost = a_star_search(startnid, goalnid)\n",
        "\n",
        "# Print solution path and cost\n",
        "if path:\n",
        "    print(f\"Solution path: {' → '.join(path)}\")\n",
        "    print(f\"Solution cost: {cost}\")\n",
        "else:\n",
        "    print(\"No path found.\")"
      ]
    },
    {
      "cell_type": "code",
      "source": [],
      "metadata": {
        "id": "1JjPOEIjv52g"
      },
      "execution_count": null,
      "outputs": []
    }
  ]
}