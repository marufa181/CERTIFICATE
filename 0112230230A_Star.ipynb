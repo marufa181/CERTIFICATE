{
  "nbformat": 4,
  "nbformat_minor": 0,
  "metadata": {
    "colab": {
      "provenance": [],
      "authorship_tag": "ABX9TyO+KpZUO4zriSfhwWeug4cG",
      "include_colab_link": true
    },
    "kernelspec": {
      "name": "python3",
      "display_name": "Python 3"
    },
    "language_info": {
      "name": "python"
    }
  },
  "cells": [
    {
      "cell_type": "markdown",
      "metadata": {
        "id": "view-in-github",
        "colab_type": "text"
      },
      "source": [
        "<a href=\"https://colab.research.google.com/github/marufa181/CERTIFICATE/blob/main/0112230230A_Star.ipynb\" target=\"_parent\"><img src=\"https://colab.research.google.com/assets/colab-badge.svg\" alt=\"Open In Colab\"/></a>"
      ]
    },
    {
      "cell_type": "code",
      "execution_count": 1,
      "metadata": {
        "id": "uJDP_7MAvcnP"
      },
      "outputs": [],
      "source": [
        "import math\n",
        "from queue import PriorityQueue"
      ]
    },
    {
      "cell_type": "code",
      "source": [
        "coords = {}\n",
        "adjlist = {}\n",
        "with open('input.txt', 'r') as f:\n",
        "\n",
        "    V = int(f.readline())\n",
        "    for _ in range(V):\n",
        "        line = f.readline().split()\n",
        "        nid, x, y = line[0], int(line[1]), int(line[2])\n",
        "        coords[nid] = (x, y)\n",
        "        adjlist[nid] = []\n",
        "\n",
        "    E = int(f.readline())\n",
        "    for _ in range(E):\n",
        "        line = f.readline().split()\n",
        "        n1, n2, cost = line[0], line[1], int(line[2])\n",
        "        adjlist[n1].append((n2, cost))\n",
        "\n",
        "    startnid = f.readline().strip()\n",
        "    goalnid = f.readline().strip()"
      ],
      "metadata": {
        "id": "xoQksnsWv5Z3"
      },
      "execution_count": 2,
      "outputs": []
    },
    {
      "cell_type": "code",
      "source": [
        "def heuristic(node, goal):\n",
        "    x1, y1 = coords[node]\n",
        "    x2, y2 = coords[goal]\n",
        "    return math.sqrt((x2 - x1)**2 + (y2 - y1)**2)"
      ],
      "metadata": {
        "id": "LmWt-w8tv-Q0"
      },
      "execution_count": 3,
      "outputs": []
    },
    {
      "cell_type": "code",
      "source": [
        "class State:\n",
        "    def __init__(self, nid, parent, g, f):\n",
        "        self.id = nid\n",
        "        self.parent = parent\n",
        "        self.g = g\n",
        "        self.f = f\n",
        "\n",
        "    def __lt__(self, other):\n",
        "        return self.f < other.f\n",
        "\n",
        "    def __eq__(self, other):\n",
        "        return self.id == other.id"
      ],
      "metadata": {
        "id": "AMOudXVfwKGE"
      },
      "execution_count": 4,
      "outputs": []
    },
    {
      "cell_type": "code",
      "source": [
        "def a_star_search(start, goal):\n",
        "    open_set = PriorityQueue()\n",
        "    open_set.put(State(start, None, 0, heuristic(start, goal)))\n",
        "    visited = set()\n",
        "    while not open_set.empty():\n",
        "        current = open_set.get()\n",
        "\n",
        "        if current.id == goal:\n",
        "            path = []\n",
        "            total_cost = current.g\n",
        "            while current:\n",
        "                path.append(current.id)\n",
        "                current = current.parent\n",
        "            return path[::-1], total_cost\n",
        "\n",
        "        visited.add(current.id)\n",
        "\n",
        "        for neighbor, cost in adjlist[current.id]:\n",
        "            if neighbor in visited:\n",
        "                continue\n",
        "\n",
        "            g = current.g + cost\n",
        "            h = heuristic(neighbor, goal)\n",
        "            f = g + h\n",
        "\n",
        "            open_set.put(State(neighbor, current, g, f))\n",
        "\n",
        "    return None, float('inf')"
      ],
      "metadata": {
        "id": "TbTbCBLXwQT1"
      },
      "execution_count": 5,
      "outputs": []
    },
    {
      "cell_type": "code",
      "source": [
        "path, cost = a_star_search(startnid, goalnid)\n",
        "\n",
        "if path:\n",
        "    print(f\"Solution path: {' → '.join(path)}\")\n",
        "    print(f\"Solution cost: {cost}\")\n",
        "else:\n",
        "    print(\"No path found.\")"
      ],
      "metadata": {
        "colab": {
          "base_uri": "https://localhost:8080/"
        },
        "id": "I2gARI3ewWiP",
        "outputId": "027e52ec-2fb5-480b-9051-a6f404f0d00b"
      },
      "execution_count": 6,
      "outputs": [
        {
          "output_type": "stream",
          "name": "stdout",
          "text": [
            "Solution path: S → C → G\n",
            "Solution cost: 6\n"
          ]
        }
      ]
    },
    {
      "cell_type": "code",
      "source": [],
      "metadata": {
        "id": "ND8bqCb9wbqa"
      },
      "execution_count": null,
      "outputs": []
    }
  ]
}