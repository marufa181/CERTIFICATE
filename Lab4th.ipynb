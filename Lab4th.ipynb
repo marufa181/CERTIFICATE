{
  "nbformat": 4,
  "nbformat_minor": 0,
  "metadata": {
    "colab": {
      "provenance": [],
      "toc_visible": true,
      "authorship_tag": "ABX9TyPJU+GjXFerkz9DWEQOQXfg",
      "include_colab_link": true
    },
    "kernelspec": {
      "name": "python3",
      "display_name": "Python 3"
    },
    "language_info": {
      "name": "python"
    }
  },
  "cells": [
    {
      "cell_type": "markdown",
      "metadata": {
        "id": "view-in-github",
        "colab_type": "text"
      },
      "source": [
        "<a href=\"https://colab.research.google.com/github/marufa181/CERTIFICATE/blob/main/Lab4th.ipynb\" target=\"_parent\"><img src=\"https://colab.research.google.com/assets/colab-badge.svg\" alt=\"Open In Colab\"/></a>"
      ]
    },
    {
      "cell_type": "code",
      "execution_count": 1,
      "metadata": {
        "colab": {
          "base_uri": "https://localhost:8080/"
        },
        "id": "mdA7byMZ3Yhn",
        "outputId": "b1861929-2bae-4017-e894-5a5e210bb772"
      },
      "outputs": [
        {
          "output_type": "stream",
          "name": "stdout",
          "text": [
            "Enter a color to search: Red\n",
            "Item found\n",
            "1\n",
            "0\n",
            "Enter a color to search:Black\n",
            "Item not found\n"
          ]
        }
      ],
      "source": [
        "colors=[]\n",
        "colors.append(\"Red\")\n",
        "colors.append(\"Blue\")\n",
        "colors.append(\"Green\")\n",
        "colors.append(\"Yellow\")\n",
        "search=input(\"Enter a color to search: \").capitalize()\n",
        "\n",
        "if search in colors:\n",
        "    print(\"Item found\")\n",
        "    print(colors.count(search))\n",
        "    print(colors.index(search))\n",
        "else:\n",
        "    print(\"Item not found\")\n",
        "\n",
        "\n",
        "#new math\n",
        "color_1=[\"Red\",\"Green\",\"Blue\",\"Green\",\"Yellow\"]\n",
        "color_2=[\"Red\",\"Green\",\"White\",\"Green\",\"Pink\"]\n",
        "search=input(\"Enter a color to search:\")\n",
        "if search in color_1 and color_2:\n",
        "    print(\"The color is in both list\")\n",
        "    print(f\"{search} is found at {color_1.index(search)} and {color_2.index(search)}\")\n",
        "    print(f\"{search} is found at {color_1.count(search)} and {color_2.index(search)}\")\n",
        "\n",
        "elif search in color_1:\n",
        "    print(f\"{search} is found at color_1 in list 1\")\n",
        "elif search in color_2:\n",
        "    print(f\"{search} is found at color_2 in list 2\")\n",
        "\n",
        "\n",
        "\n",
        "\n",
        "else:\n",
        "    print(\"Item not found\")"
      ]
    },
    {
      "cell_type": "code",
      "source": [
        "import random\n",
        "print(random.randint(1,100))"
      ],
      "metadata": {
        "colab": {
          "base_uri": "https://localhost:8080/"
        },
        "id": "KbuXh6Cq6y5n",
        "outputId": "2a8e7b0d-50ab-4d73-d3c9-cbee7eb15725"
      },
      "execution_count": 5,
      "outputs": [
        {
          "output_type": "stream",
          "name": "stdout",
          "text": [
            "16\n"
          ]
        }
      ]
    },
    {
      "cell_type": "code",
      "source": [
        "rnd = int(input(\"Enter a number: \"))\n",
        "if rnd <=0.25:\n",
        "  print(\"Win\")\n",
        "else:\n",
        "  print(\"Lose\")"
      ],
      "metadata": {
        "colab": {
          "base_uri": "https://localhost:8080/"
        },
        "id": "u2t_wAAT7Kp_",
        "outputId": "4d2fddfb-2646-43c4-add6-9fa6d2442a6f"
      },
      "execution_count": 4,
      "outputs": [
        {
          "output_type": "stream",
          "name": "stdout",
          "text": [
            "Enter a number: 0\n",
            "Win\n"
          ]
        }
      ]
    },
    {
      "cell_type": "code",
      "source": [
        "import matplotlib.pyplot as plt"
      ],
      "metadata": {
        "id": "AAexfslJGWOn"
      },
      "execution_count": 10,
      "outputs": []
    },
    {
      "cell_type": "code",
      "source": [
        "sizes = [15, 30, 45, 10]\n",
        "labels = ['A', 'B', 'C ','D']\n",
        "\n",
        "plt.pie(sizes, labels=labels, autopct='%1.1f%%')\n",
        "circle =plt.Circle( (0,0), 0.7, color='white')\n",
        "plt.gca().add_artist(circle)\n",
        "plt.title('Donut Chart')\n",
        "plt.show()"
      ],
      "metadata": {
        "colab": {
          "base_uri": "https://localhost:8080/",
          "height": 428
        },
        "id": "F5zwPd4Q_vJg",
        "outputId": "3da77a96-c31d-465f-9c32-126bad6d1499"
      },
      "execution_count": 9,
      "outputs": [
        {
          "output_type": "display_data",
          "data": {
            "text/plain": [
              "<Figure size 640x480 with 1 Axes>"
            ],
            "image/png": "[encoded data removed]"
          },
          "metadata": {}
        }
      ]
    },
    {
      "cell_type": "code",
      "source": [],
      "metadata": {
        "id": "wiqcOoLZFtaw"
      },
      "execution_count": null,
      "outputs": []
    }
  ]
}