{
  "nbformat": 4,
  "nbformat_minor": 0,
  "metadata": {
    "colab": {
      "provenance": [],
      "include_colab_link": true
    },
    "kernelspec": {
      "name": "python3",
      "display_name": "Python 3"
    },
    "language_info": {
      "name": "python"
    }
  },
  "cells": [
    {
      "cell_type": "markdown",
      "metadata": {
        "id": "view-in-github",
        "colab_type": "text"
      },
      "source": [
        "<a href=\"https://colab.research.google.com/github/marufa181/CERTIFICATE/blob/main/Assignment02_Astar.ipynb\" target=\"_parent\"><img src=\"https://colab.research.google.com/assets/colab-badge.svg\" alt=\"Open In Colab\"/></a>"
      ]
    },
    {
      "cell_type": "code",
      "execution_count": null,
      "metadata": {
        "id": "CbG3pBnZOfMP"
      },
      "outputs": [],
      "source": [
        "import math\n",
        "from queue import PriorityQueue\n",
        "\n",
        "def heuristic(node, goal, coords):\n",
        "  x1, y1 = coords[node]\n",
        "  x2, y2 = coords[goal]\n",
        "  return math.sqrt((x1-x2)**2 + (y1-y2)**2)\n"
      ]
    },
    {
      "cell_type": "code",
      "source": [
        "\n",
        "class c:\n",
        "  def __init__(self, node_id, parent, g, f):\n",
        "    self.node_id = node_id\n",
        "    self.parent = parent\n",
        "    self.g = g\n",
        "    self.f = f\n",
        "\n",
        "  def __lt__(self, other):\n",
        "    return self.f < other.f\n",
        "\n",
        "  def __eq__(self, other):\n",
        "    return self.f == other.f and self.node_id == other.node_id\n",
        "\n",
        "  def __repr__(self):\n",
        "    return f\"c(node_id={self.node_id}, g={self.g}, f={self.f}\"\n",
        "\n",
        "def astar(adjlist, coords, start_node, goal_node):\n",
        "  pq = PriorityQueue()\n",
        "  visited = set()\n",
        "  g = 0\n",
        "  h = heuristic(start_node, goal_node, coords)\n",
        "  f = g + h\n",
        "  start = c(start_node, None, g, f)\n",
        "  pq.put(start)\n",
        "\n",
        "  while not pq.empty():\n",
        "    curr_state = pq.get()\n",
        "    curr_node = curr_state.node_id\n",
        "\n",
        "    if curr_node == goal_node:\n",
        "      path = []\n",
        "      cost = curr_state.g\n",
        "      while curr_state:\n",
        "        path.append(curr_state.node_id)\n",
        "        curr_state = curr_state.parent\n",
        "      path.reverse()\n",
        "      return path, cost\n",
        "\n",
        "    if curr_node in visited:\n",
        "      continue\n",
        "    visited.add(curr_node)\n",
        "\n",
        "    for neighbor, edge_cost in adjlist.get(curr_node,[]):\n",
        "      g_new = curr_state.g + edge_cost\n",
        "      h_new = heuristic(neighbor, goal_node, coords)\n",
        "      f_new = g_new + h_new\n",
        "      neighbor_state = c(neighbor, curr_state, g_new, f_new)\n",
        "      if neighbor not in visited:\n",
        "        pq.put(neighbor_state)\n",
        "  return None, float('inf')\n",
        "\n",
        "\n",
        "def main():\n",
        "  coords = {}\n",
        "  adjlist = {}\n",
        "  with open('input.txt','r') as f:\n",
        "    V = int(f.readline())\n",
        "    for _ in range (V):\n",
        "      strs = f.readline().split()\n",
        "      nid, x, y = strs[0], int(strs[1]), int(strs[2])\n",
        "      coords[nid] = (x,y)\n",
        "      adjlist[nid] = []\n",
        "    E = int(f.readline())\n",
        "    for i in range(E):\n",
        "      strs = f.readline().split()\n",
        "      n1,n2,c = strs[0],strs[1],int(strs[2])\n",
        "      adjlist[n1].append((n2,c))\n",
        "    start_node = f.readline().strip()\n",
        "    goal_node = f.readline().strip()\n",
        "\n",
        "  path, cost = astar(adjlist, coords, start_node, goal_node)\n",
        "  if path:\n",
        "    print('Solution Path: ', ' -> '.join(path))\n",
        "    print('Solution Cost: ', cost)\n",
        "  else:\n",
        "    print('No Solution')\n",
        "\n",
        "if __name__ == '__main__':\n",
        "  main()"
      ],
      "metadata": {
        "colab": {
          "base_uri": "https://localhost:8080/"
        },
        "id": "uof8xG9lK7lN",
        "outputId": "be4ca573-7a21-478c-acb1-9883c4341280"
      },
      "execution_count": null,
      "outputs": [
        {
          "output_type": "stream",
          "name": "stdout",
          "text": [
            "Solution Path:  S -> A\n",
            "Solution Cost:  1\n"
          ]
        }
      ]
    },
    {
      "cell_type": "code",
      "source": [],
      "metadata": {
        "id": "CPoMgTahLAM7"
      },
      "execution_count": null,
      "outputs": []
    }
  ]
}